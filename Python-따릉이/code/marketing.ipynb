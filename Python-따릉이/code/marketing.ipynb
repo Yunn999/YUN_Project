{
 "cells": [
  {
   "cell_type": "code",
   "execution_count": null,
   "id": "db2c8e57",
   "metadata": {},
   "outputs": [],
   "source": [
    "# from google.colab import drive\n",
    "# drive.mount('/content/drive')"
   ]
  },
  {
   "cell_type": "code",
   "execution_count": null,
   "id": "25656e9c",
   "metadata": {},
   "outputs": [],
   "source": [
    "# cd drive/MyDrive/따릉이"
   ]
  },
  {
   "cell_type": "code",
   "execution_count": null,
   "id": "12513dd3",
   "metadata": {},
   "outputs": [],
   "source": [
    "import pandas as pd\n",
    "import matplotlib.pyplot as plt\n",
    "import numpy as np\n",
    "\n",
    "import warnings\n",
    "warnings.filterwarnings('ignore')\n",
    "\n",
    "\n",
    "plt.rc('font', family='Malgun Gothic')"
   ]
  },
  {
   "cell_type": "code",
   "execution_count": null,
   "id": "5e04b973",
   "metadata": {},
   "outputs": [],
   "source": [
    "station_df = pd.read_csv('data/station_data.csv', index_col=0)\n",
    "break_df = pd.read_csv('data/서울시 공공자전거 고장신고 내역_23.1-6.csv', encoding=\"cp949\")\n",
    "office_df = pd.read_csv('data/서울특별시 공공자전거 대여소별 이용정보(월별)_23.1-6.csv', encoding=\"cp949\")\n",
    "history_df = pd.read_csv('data/서울특별시 공공자전거 대여이력 정보_2301.csv', encoding=\"cp949\")\n",
    "history_df['반납대여소번호'] = history_df['반납대여소번호'].replace(\"\\\\N\", np.nan)\n",
    "history_df['반납대여소번호'] = history_df['반납대여소번호'].astype(float)\n",
    "office_df['대여건수'] = office_df['대여건수'].str.replace(\",\", \"\").astype(int)\n",
    "office_df['반납건수'] = office_df['반납건수'].str.replace(\",\", \"\").replace(' - ', 0).astype(int)"
   ]
  },
  {
   "cell_type": "markdown",
   "id": "ca0364cb",
   "metadata": {},
   "source": [
    "### 타겟 광고를 위한 데이터 분석\n",
    "- 20대 남성"
   ]
  },
  {
   "cell_type": "code",
   "execution_count": null,
   "id": "6a9f8953",
   "metadata": {},
   "outputs": [],
   "source": [
    "import datetime"
   ]
  },
  {
   "cell_type": "code",
   "execution_count": null,
   "id": "6eccd365",
   "metadata": {},
   "outputs": [],
   "source": [
    "history_df['성별'] = history_df['성별'].replace({'m': 'M', 'f': 'F', np.nan:'\\\\N'})"
   ]
  },
  {
   "cell_type": "code",
   "execution_count": null,
   "id": "70f22143",
   "metadata": {},
   "outputs": [],
   "source": [
    "history_df['생년'] = history_df['생년'].replace('\\\\N', np.nan)\n",
    "history_df['생년'] = history_df['생년'].astype(float)"
   ]
  },
  {
   "cell_type": "code",
   "execution_count": null,
   "id": "e1bf59de",
   "metadata": {},
   "outputs": [],
   "source": [
    "current_year = datetime.datetime.now().year\n",
    "\n",
    "filtered_history_df = history_df.copy()\n",
    "filtered_history_df = filtered_history_df[(filtered_history_df['생년'] > 0) & (filtered_history_df['생년'] <= 2010)]\n",
    "\n",
    "filtered_history_df['연령'] = current_year - filtered_history_df['생년']\n",
    "\n",
    "age_bins = [13, 20, 30, 40, 50, 60, 70, 80, 90, 100]\n",
    "age_labels = ['13-19', '20-29', '30-39', '40-49', '50-59', '60-69', '70-79', '80-89', '90+']\n",
    "\n",
    "filtered_history_df['연령대'] = pd.cut(filtered_history_df['연령'], bins=age_bins, labels=age_labels, right=False)"
   ]
  },
  {
   "cell_type": "code",
   "execution_count": null,
   "id": "e9ab1f91",
   "metadata": {},
   "outputs": [],
   "source": [
    "# 20대 남성이 자주 이용하는 대여소\n",
    "target_df = filtered_history_df[\n",
    "    (filtered_history_df['성별'] == 'M') &\n",
    "    (filtered_history_df['연령대'] == '20-29')\n",
    "]\n",
    "target_df.head()"
   ]
  },
  {
   "cell_type": "code",
   "execution_count": null,
   "id": "511da3f6",
   "metadata": {},
   "outputs": [],
   "source": [
    "target_station_counts = target_df.groupby('대여 대여소명').size().reset_index(name='대여횟수')\n",
    "target_station_counts.sort_values('대여횟수', ascending=False).head(10)"
   ]
  },
  {
   "cell_type": "code",
   "execution_count": null,
   "id": "dae16f65",
   "metadata": {},
   "outputs": [],
   "source": [
    "total_rentals_per_station = filtered_history_df.groupby('대여 대여소명').size().reset_index(name='전체대여횟수')\n",
    "total_rentals_per_station.head()"
   ]
  },
  {
   "cell_type": "code",
   "execution_count": null,
   "id": "587ac7b5",
   "metadata": {},
   "outputs": [],
   "source": [
    "merged_df = total_rentals_per_station.merge(target_station_counts, on='대여 대여소명', how='left')\n",
    "merged_df.head()"
   ]
  },
  {
   "cell_type": "code",
   "execution_count": null,
   "id": "de3ed153",
   "metadata": {},
   "outputs": [],
   "source": [
    "merged_df['20대남성비율'] = merged_df['대여횟수']/merged_df['전체대여횟수']\n",
    "merged_df.sort_values('20대남성비율', ascending=False).head(10)"
   ]
  },
  {
   "cell_type": "code",
   "execution_count": null,
   "id": "c5ac2cac",
   "metadata": {},
   "outputs": [],
   "source": [
    "total_rentals = len(filtered_history_df)\n",
    "target_rentals = len(target_df)\n",
    "\n",
    "target_rentals / total_rentals"
   ]
  },
  {
   "cell_type": "markdown",
   "id": "641641c9",
   "metadata": {},
   "source": [
    "### KMeans를 활용한 비슷한 성향의 대여소 찾기\n",
    "- 서울과학기술대학교(어학교육원)과 비슷한 성향의 대여소 찾기"
   ]
  },
  {
   "cell_type": "code",
   "execution_count": null,
   "id": "03bf935d",
   "metadata": {},
   "outputs": [],
   "source": [
    "filtered_history_df['대여시간'] = pd.to_datetime(filtered_history_df['대여일시']).dt.hour"
   ]
  },
  {
   "cell_type": "code",
   "execution_count": null,
   "id": "ecd45ced",
   "metadata": {},
   "outputs": [],
   "source": [
    "hourly_groupby_df = filtered_history_df.groupby(['대여 대여소명', '대여시간']).size().unstack(fill_value=0)\n",
    "hourly_groupby_df.head()"
   ]
  },
  {
   "cell_type": "code",
   "execution_count": null,
   "id": "b20b12ed",
   "metadata": {},
   "outputs": [],
   "source": [
    "age_groupby_df = filtered_history_df.groupby(['대여 대여소명', '연령대']).size().unstack(fill_value=0)\n",
    "age_groupby_df.head()"
   ]
  },
  {
   "cell_type": "code",
   "execution_count": null,
   "id": "d589d116",
   "metadata": {},
   "outputs": [],
   "source": [
    "gender_groupby_df = filtered_history_df.groupby(['대여 대여소명', '성별']).size().unstack(fill_value=0)\n",
    "gender_groupby_df.head()"
   ]
  },
  {
   "cell_type": "code",
   "execution_count": null,
   "id": "9893bfc5",
   "metadata": {},
   "outputs": [],
   "source": [
    "general_groupby_df = filtered_history_df.groupby(['대여 대여소명', '성별', '연령대', '대여시간']).size()\n",
    "general_groupby_df = general_groupby_df.unstack(\"성별\")\n",
    "general_groupby_df = general_groupby_df.unstack(\"연령대\")\n",
    "general_groupby_df = general_groupby_df.unstack(\"대여시간\")\n",
    "general_groupby_df.head()"
   ]
  },
  {
   "cell_type": "code",
   "execution_count": null,
   "id": "dd116861",
   "metadata": {},
   "outputs": [],
   "source": [
    "general_groupby_df.columns = [\" \".join(\n",
    "    [str(c) for c in column]\n",
    ") for column in general_groupby_df.columns]"
   ]
  },
  {
   "cell_type": "code",
   "execution_count": null,
   "id": "4dbdb7b4",
   "metadata": {},
   "outputs": [],
   "source": [
    "general_groupby_df"
   ]
  },
  {
   "cell_type": "code",
   "execution_count": null,
   "id": "c6c64bf7",
   "metadata": {},
   "outputs": [],
   "source": [
    "features_df = pd.concat([general_groupby_df, gender_groupby_df, age_groupby_df, hourly_groupby_df], axis=1)\n",
    "features_df"
   ]
  },
  {
   "cell_type": "code",
   "execution_count": null,
   "id": "590832e1",
   "metadata": {},
   "outputs": [],
   "source": [
    "from sklearn.cluster import KMeans"
   ]
  },
  {
   "cell_type": "code",
   "execution_count": null,
   "id": "96cd994f",
   "metadata": {},
   "outputs": [],
   "source": [
    "features_df.columns = features_df.columns.astype(str)"
   ]
  },
  {
   "cell_type": "code",
   "execution_count": null,
   "id": "92cc690a",
   "metadata": {},
   "outputs": [],
   "source": [
    "kmeans = KMeans(n_clusters=30, random_state=13)\n",
    "features_df['cluster'] = kmeans.fit_predict(features_df)\n",
    "features_df"
   ]
  },
  {
   "cell_type": "code",
   "execution_count": null,
   "id": "e6296ffb",
   "metadata": {
    "scrolled": true
   },
   "outputs": [],
   "source": [
    "cluster = features_df.loc['서울과학기술대학교(어학교육원)']['cluster']\n",
    "features_df[features_df['cluster'] == cluster].index"
   ]
  },
  {
   "cell_type": "code",
   "execution_count": null,
   "id": "b99dda5c",
   "metadata": {},
   "outputs": [],
   "source": [
    "len(features_df[features_df['cluster'] == cluster].index)"
   ]
  }
 ],
 "metadata": {
  "kernelspec": {
   "display_name": "Python 3 (ipykernel)",
   "language": "python",
   "name": "python3"
  },
  "language_info": {
   "codemirror_mode": {
    "name": "ipython",
    "version": 3
   },
   "file_extension": ".py",
   "mimetype": "text/x-python",
   "name": "python",
   "nbconvert_exporter": "python",
   "pygments_lexer": "ipython3",
   "version": "3.11.3"
  }
 },
 "nbformat": 4,
 "nbformat_minor": 5
}
